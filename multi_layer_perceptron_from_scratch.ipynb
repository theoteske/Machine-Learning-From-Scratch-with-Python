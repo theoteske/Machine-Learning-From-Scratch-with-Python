{
 "cells": [
  {
   "cell_type": "code",
   "execution_count": 1,
   "id": "b84df6e8",
   "metadata": {},
   "outputs": [
    {
     "name": "stdout",
     "output_type": "stream",
     "text": [
      "(70000, 784) (70000,)\n"
     ]
    }
   ],
   "source": [
    "#we will classify MNIST\n",
    "from sklearn.datasets import fetch_openml\n",
    "X, y = fetch_openml('mnist_784', version=1, parser='auto', return_X_y=True)\n",
    "X = X.values\n",
    "y = y.astype(int).values\n",
    "\n",
    "#check the dimensions of our data\n",
    "print(X.shape, y.shape)"
   ]
  },
  {
   "cell_type": "code",
   "execution_count": 2,
   "id": "d41a927c",
   "metadata": {},
   "outputs": [],
   "source": [
    "#standardize our features to stabilize gradient descent, pixel values in [-1, 1]\n",
    "X = 2*((X/255.)-0.5)\n",
    "\n",
    "#perform train-test split: 10000 test set, 5000 validation set\n",
    "from sklearn.model_selection import train_test_split\n",
    "\n",
    "X_inter, X_test, y_inter, y_test = train_test_split(X, y,\\\n",
    "                                                    test_size=10000, random_state=42, stratify=y)\n",
    "X_train, X_valid, y_train, y_valid = train_test_split(X_inter, y_inter,\\\n",
    "                                                      test_size=5000, random_state=42, stratify=y_inter)\n"
   ]
  },
  {
   "cell_type": "code",
   "execution_count": 3,
   "id": "55321dc4",
   "metadata": {},
   "outputs": [],
   "source": [
    "import numpy as np\n",
    "from neuralnet import NeuralNetMLP\n",
    "\n",
    "######################\n",
    "#some useful functions\n",
    "######################\n",
    "\n",
    "#computes sigmoid function\n",
    "def sigmoid(z):\n",
    "    return 1./(1.+np.exp(-z))\n",
    "\n",
    "#converts integer class labels to one-hot encoding\n",
    "def int_to_onehot(y, numlabels):\n",
    "    ohe = np.zeros((y.shape[0], num_labels))\n",
    "    for i, val in enumerate(y):\n",
    "        ohe[i, val] = 1\n",
    "        \n",
    "    return ohe\n",
    "\n",
    "#returns the mean squared error loss\n",
    "def mse_loss(goals, probs, num_labels=10):\n",
    "    targets=int_to_onehot(goals, num_labels)\n",
    "    return np.mean((targets-probs)**2)\n",
    "\n",
    "#returns accuracy\n",
    "def accuracy(targets, pred_labels):\n",
    "    return np.mean(pred_labels == targets)"
   ]
  },
  {
   "cell_type": "code",
   "execution_count": null,
   "id": "72883aca",
   "metadata": {},
   "outputs": [],
   "source": [
    "#instantiate an MLP model\n",
    "mlp = NeuralNetMLP(num_features=28**2, num_hidden=50, num_classes=10)\n",
    "\n",
    "#function to implement mini-batch gradient descent\n",
    "def minibatch_generator(X, y, minibatch_size):\n",
    "    indices = np.arange(X.shape[0])\n",
    "    np.random.shuffle(indices)\n",
    "    for index in range(0, indices.shape[0]-minibatch_size+1, minibatch_size):\n",
    "        batch_index = indices[start_index:start_index+minibatch_size]\n",
    "        yield X[batch_index], y[batch_index]\n",
    "\n",
    "#function to calculate evaluation metrics\n",
    "def compute_mse_and_acc(nnet, X, y, num_labels=10, minibatch_size=100):\n",
    "    "
   ]
  }
 ],
 "metadata": {
  "kernelspec": {
   "display_name": "Python 3 (ipykernel)",
   "language": "python",
   "name": "python3"
  },
  "language_info": {
   "codemirror_mode": {
    "name": "ipython",
    "version": 3
   },
   "file_extension": ".py",
   "mimetype": "text/x-python",
   "name": "python",
   "nbconvert_exporter": "python",
   "pygments_lexer": "ipython3",
   "version": "3.11.7"
  }
 },
 "nbformat": 4,
 "nbformat_minor": 5
}
