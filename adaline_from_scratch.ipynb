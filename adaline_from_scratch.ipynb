{
 "cells": [
  {
   "cell_type": "markdown",
   "id": "6a9336e2",
   "metadata": {},
   "source": [
    "## Adaline\n",
    "\n",
    "We are in the same setting as we were for the perceptron. This time, however, we will be slightly more sophisticated in how we update the weights and biases of our model, in order to avoid the potential that the perceptron has to fail to converge.\n",
    "\n",
    "Define the *loss function* $\\mathcal{L}$ to be the mean-squared error between the model's prediction and the true class label, so \n",
    "$$\n",
    "\\mathcal{L}(\\mathbf{w}, b)=\\frac{1}{n}\\sum_{i=1}^n\\left(y^{(i)}-\\sigma\\left(z^{(i)}\\right)\\right)^2.\n",
    "$$\n",
    "Note that this function is not only differentiable, but also convex; thus, we can perform gradient descent to optimize the model's parameters.\n",
    "\n",
    "Now, as before we will initialize the weights and bias, then update each iteratively as\n",
    "\\begin{align*}\n",
    "\\mathbf{w}&:=\\mathbf{w}+\\Delta\\mathbf{w}\\\\\n",
    "b&:=b+\\Delta b\n",
    "\\end{align*}\n",
    "\n",
    "However, this time the updates we use are calculated via *gradient descent* performed on the loss function given above. The idea of gradient descent is to take a step in the opposite direction of the gradient each time we update the model's weights and bias. Formally, we have\n",
    "\\begin{align*}\n",
    "\\Delta\\mathbf{w}&=-\\eta \\nabla_{\\mathbf{w}}\\mathcal{L}(\\mathbf{w}, b)\\\\\n",
    "\\Delta b&=-\\eta \\frac{\\partial \\mathcal{L}(\\mathbf{w}, b)}{\\partial b}\n",
    "\\end{align*}\n",
    "\n",
    "To do this, we first need to find the partial derivative of the loss function with respect to an individual weight $w_j$; the gradient is the vector of these partial derivatives over all weights. We calculate that\n",
    "\\begin{align*}\n",
    "\\frac{\\partial \\mathcal{L}(\\mathbf{w}, b)}{\\partial w_j} &= \\frac{\\partial}{\\partial w_j}\\left(\\frac{1}{n}\\sum_{i=1}^n\\left(y^{(i)}-\\sigma\\left(z^{(i)}\\right)\\right)^2 \\right) \\\\\n",
    "&= \\frac{2}{n}\\sum_{i=1}^n\\left(y^{(i)}-\\sigma\\left(z^{(i)}\\right)\\right)\\frac{\\partial}{\\partial w_j}\\left(y^{(i)}-\\sigma\\left(z^{(i)}\\right)\\right) \\\\\n",
    "&= \\frac{2}{n}\\sum_{i=1}^n\\left(y^{(i)}-\\sigma\\left(z^{(i)}\\right)\\right)\\frac{\\partial}{\\partial w_j}\\left(y^{(i)}-\\sum_{j=1}^d\\left(w_jx_j^{(i)}+b\\right)\\right) \\\\\n",
    "&= -\\frac{2}{n}\\sum_{i=1}^n\\left(y^{(i)}-\\sigma\\left(z^{(i)}\\right)\\right)x_j^{(i)}.\n",
    "\\end{align*}\n",
    "Very similarly, we find that\n",
    "$$\n",
    "\\frac{\\partial \\mathcal{L}(\\mathbf{w}, b)}{\\partial b}=-\\frac{2}{n}\\sum_{i=1}^n\\left(y^{(i)}-\\sigma\\left(z^{(i)}\\right)\\right).\n",
    "$$\n",
    "\n",
    "We implement a simple Adaline model below."
   ]
  },
  {
   "cell_type": "code",
   "execution_count": 2,
   "id": "5d13f25c",
   "metadata": {},
   "outputs": [],
   "source": [
    "import numpy as np\n",
    "\n",
    "class AdalineGD:\n",
    "    \n",
    "    def __init__(self, n_iter=50, eta=0.01, random_state=42):\n",
    "        self.n_iter = n_iter\n",
    "        self.eta = eta\n",
    "        self.random_state = random_state\n",
    "        \n",
    "    def fit(self, X, y):\n",
    "        #initialize weights and bias using pseudo rng\n",
    "        prng = np.random.RandomState(self.random_state)\n",
    "        self._w = prng.normal(loc=0.5, scale=0.01, size=X.shape[1])\n",
    "        self._b = float(0)\n",
    "        \n",
    "        #also keep track of losses for educational purposes\n",
    "        self._losses = []\n",
    "        \n",
    "        for i in range(self.n_iter):\n",
    "            lin_input = self.lin_input(X)\n",
    "            output = self.activation(lin_input)\n",
    "            errors = y - output\n",
    "            \n",
    "            #here we implement the gradients/partial derivatives calculated above\n",
    "            self._w += self.eta * 2.0 * X.T.dot(errors) / X.shape[0]\n",
    "            self._b += self.eta * 2.0 * errors.mean()\n",
    "            \n",
    "            #record the loss\n",
    "            loss = (errors ** 2).mean()\n",
    "            self._losses.append(loss)\n",
    "            \n",
    "        return self\n",
    "    \n",
    "    def lin_input(self, X):\n",
    "        #calculate our z vector\n",
    "        return np.dot(X, self._w) + self._b\n",
    "    \n",
    "    def activation(self, X):\n",
    "        #for now we just have the identity activation function\n",
    "        return X\n",
    "    \n",
    "    def predict(self, X):\n",
    "        #sigma(z)\n",
    "        return np.where(self.activation(self.lin_input(X))>=0.5, 1, 0)\n",
    "    \n",
    "    def evaluate(self, X, y):\n",
    "        #allows us to see how our model does on test data\n",
    "        predictions = self.predict(X)\n",
    "        accuracy = np.sum(predictions == y) / y.shape[0]\n",
    "        return accuracy"
   ]
  },
  {
   "cell_type": "markdown",
   "id": "ce73bc53",
   "metadata": {},
   "source": [
    "Let's test the model above on some data to see how well it performs. We will use the UCI ML Breast Cancer Wisconsin dataset from the `sklearn` library. Below, we load the dataset and get an idea of what kind of data we're dealing with."
   ]
  },
  {
   "cell_type": "code",
   "execution_count": 3,
   "id": "f46b0900",
   "metadata": {},
   "outputs": [
    {
     "name": "stdout",
     "output_type": "stream",
     "text": [
      "Number of rows (observations): 569, Number of columns (features): 30\n",
      "Feature names:\n",
      "['mean radius' 'mean texture' 'mean perimeter' 'mean area'\n",
      " 'mean smoothness' 'mean compactness' 'mean concavity'\n",
      " 'mean concave points' 'mean symmetry' 'mean fractal dimension'\n",
      " 'radius error' 'texture error' 'perimeter error' 'area error'\n",
      " 'smoothness error' 'compactness error' 'concavity error'\n",
      " 'concave points error' 'symmetry error' 'fractal dimension error'\n",
      " 'worst radius' 'worst texture' 'worst perimeter' 'worst area'\n",
      " 'worst smoothness' 'worst compactness' 'worst concavity'\n",
      " 'worst concave points' 'worst symmetry' 'worst fractal dimension']\n",
      "Class labels:\n",
      "['malignant' 'benign']\n"
     ]
    }
   ],
   "source": [
    "from sklearn import datasets\n",
    "\n",
    "#load and preview the dataset\n",
    "breast_cancer = datasets.load_breast_cancer()\n",
    "features_og = breast_cancer.data\n",
    "\n",
    "#we want to standardize the features to improve the convergence of gradient descent\n",
    "features = np.copy(features_og)\n",
    "features = np.apply_along_axis(lambda column: (column - column.mean())/column.std(),\\\n",
    "                            axis=0, arr=features)\n",
    "classes = breast_cancer.target\n",
    "print('Number of rows (observations): {rows}, Number of columns (features): {cols}'\\\n",
    "      .format(rows=features.shape[0], cols=features.shape[1]))\n",
    "\n",
    "print('Feature names:')\n",
    "print(breast_cancer.feature_names)\n",
    "print('Class labels:')\n",
    "print(breast_cancer.target_names)"
   ]
  },
  {
   "cell_type": "markdown",
   "id": "251c4d32",
   "metadata": {},
   "source": [
    "As we can see above, we are looking at a dataset consisting of 569 observations of tumors and 30 features of these tumors, such as radius, texture, and symmetry. We then want to classify each instance as being either benign or malignant. For a full description of the dataset as provided by the creators, we can call `breast_cancer.DESCR`, but for our purposes this is plenty of information.\n",
    "\n",
    "Also, notice that we chose to *standardize* the features by ensuring each feature has mean zero and standard deviation $1$. For each feature $\\mathbf{x}$, we do\n",
    "$$\n",
    "\\mathbf{x}_{std}=\\frac{\\mathbf{x}-\\mu}{\\sigma},\n",
    "$$\n",
    "where $\\mu$ and $\\sigma$ represent the mean and standard deviation of the feature, respectively. One should imagine this operation being applied element-wise, because of course the feature $\\mathbf{x}$ is a vector while $\\mu$ and $\\sigma$ are scalars. We do this to help ensure the gradient descent algorithm will actually converge. Without standardization, different features may exist on completely different scales, making it difficult to find weights and a bias that work for all features.\n",
    "\n",
    "Now, we will perform a train-test split and fit the model to the training data."
   ]
  },
  {
   "cell_type": "code",
   "execution_count": 33,
   "id": "b966ef9a",
   "metadata": {},
   "outputs": [
    {
     "data": {
      "text/plain": [
       "0.7982456140350878"
      ]
     },
     "execution_count": 33,
     "metadata": {},
     "output_type": "execute_result"
    }
   ],
   "source": [
    "#create a pseudo rng\n",
    "ttsplit = np.random.RandomState(2)\n",
    "\n",
    "#combine classes with features so they get shuffled together\n",
    "classes = classes.reshape(-1, 1)\n",
    "full_data = np.hstack((features, classes))\n",
    "\n",
    "#we will do an 80-20 split\n",
    "split_ratio = 0.8\n",
    "split_index = int(len(features)*split_ratio)\n",
    "shuffled_data = ttsplit.permutation(full_data)\n",
    "train_data = shuffled_data[:split_index]\n",
    "test_data = shuffled_data[split_index:]\n",
    "\n",
    "#now separate out the class labels from the features\n",
    "train_features = train_data[:,:30]\n",
    "train_classes = train_data[:,30].astype(int)\n",
    "test_features = test_data[:,:30]\n",
    "test_classes = test_data[:,30].astype(int)\n",
    "\n",
    "#finally fit the model to the training data\n",
    "ada = AdalineGD(eta=0.001, n_iter=500)\n",
    "ada.fit(train_features, train_classes)\n",
    "\n",
    "#and output the accuracy\n",
    "ada.evaluate(test_features, test_classes)"
   ]
  },
  {
   "cell_type": "code",
   "execution_count": 40,
   "id": "8594e4bc",
   "metadata": {},
   "outputs": [
    {
     "data": {
      "image/png": "[encoded data removed]",
      "text/plain": [
       "<Figure size 640x480 with 1 Axes>"
      ]
     },
     "metadata": {},
     "output_type": "display_data"
    }
   ],
   "source": [
    "import matplotlib.pyplot as plt\n",
    "\n",
    "plt.plot(range(1, len(ada._losses) + 1),ada._losses, marker='o')\n",
    "plt.xlabel('Epochs')\n",
    "plt.ylabel('mean squared error')\n",
    "plt.title('Adaline - Learning rate 0.001')\n",
    "plt.show()"
   ]
  },
  {
   "cell_type": "markdown",
   "id": "5604539f",
   "metadata": {},
   "source": [
    "Without standardization of the features, we only achieve an accuracy slightly better than guessing. We can see that, unfortunately, the losses increase over time. In fact, they become so large that we plot the log of the losses above! Fortunately, there are steps we can take to improve the gradient descent algorithm we employed above.\n",
    "\n",
    "Standardizing the features yields an accuracy of just under $80\\%$ with $500$ iterations. While this is good, we can try to do better by employing stochastic gradient descent, where instead of updating the weights based on the sum of the errors over every observation in the training set, we instead instead update the weights based on one randomly selected observation in the training set at a time. So, for each individual weight $w_j$ and the bias $b$, we have the updates \n",
    "\\begin{align*}\n",
    "\\Delta w_j&=\\eta\\left(y^{(i)}-\\sigma\\left(z^{(i)}\\right) \\right)x_j^{(i)}\\\\\n",
    "\\Delta b&=\\eta\\left(y^{(i)}-\\sigma\\left(z^{(i)}\\right) \\right)\n",
    "\\end{align*}\n",
    "where $\\eta$ is the learning rate.\n",
    "\n",
    "Because of the frequent weight updates, stochastic gradient descent tends to converge much faster than full-batch gradient descent; however, it only converges to an area close to the global minimum due to the randomness inherent in the weight updates. As a result, we often pair stochastic gradient descent with an *adaptive learning rate*, meaning that the learning rate decreases with the number of iterations. Formally, if $i$ represents the number of iterations, we have\n",
    "$$\n",
    "\\eta(i)=\\frac{\\eta_0}{i+c}\n",
    "$$\n",
    "where $\\eta_0$ is the initial learning rate and $c$ is some constant which controls the rate at which the learning rate changes.\n",
    "\n",
    "We implement a version of the Adaline model using stochastic gradient descent below."
   ]
  },
  {
   "cell_type": "code",
   "execution_count": 12,
   "id": "7f531407",
   "metadata": {},
   "outputs": [],
   "source": [
    "class AdalineSGD():\n",
    "    c=10 #this sets the value of the constant c which controls the adaptive learning rate\n",
    "    \n",
    "    def __init__(self, eta0=0.01, n_iter=10, random_state=1):\n",
    "        self.current_iter = 0.0\n",
    "        self.eta0 = eta0\n",
    "        self.n_iter = n_iter\n",
    "        self.random_state = random_state\n",
    "        self.w_initialized = False #do this to ensure we only initialize weights once\n",
    "        \n",
    "    def fit(self, X, y):\n",
    "        self._initialize_weights(X.shape[1])\n",
    "        self._losses = []\n",
    "        \n",
    "        for i in range(self.n_iter):\n",
    "            #have to permute X and y each epoch to prevent cycles\n",
    "            X, y = self._shuffle(X, y)\n",
    "            \n",
    "            #keep track of average loss for each epoch\n",
    "            losses = []\n",
    "            for x, yi in zip(X, y):\n",
    "                losses.append(self._update_weights(x, yi))\n",
    "            avg_loss = np.mean(losses)\n",
    "            self._losses.append(avg_loss)\n",
    "            \n",
    "        return self\n",
    "    \n",
    "    def partial_fit(self, X, y):\n",
    "        '''\n",
    "        The point of this method is if we want to fit the model to new data without \n",
    "        re-initializing the weights. For example, if we want to train some model\n",
    "        on new data at regular intervals, such as every day, we can simply call\n",
    "        partial_fit() on the new data rather than having to aggregate the new data \n",
    "        with the old data and then training a new model from scratch.\n",
    "        '''\n",
    "        if not self.w_initialized:\n",
    "            self._initialize_weights(X,shape[1])\n",
    "            \n",
    "        if y.ravel().shape[0] > 1:\n",
    "            for x, yi in zip(X, y):\n",
    "                self._update_weights(x, yi)\n",
    "        else:\n",
    "            self._update_weights(X, y)\n",
    "        \n",
    "        return self\n",
    "    \n",
    "    def _initialize_weights(self, m):\n",
    "        self.prng = np.random.RandomState(self.random_state)\n",
    "        self._w = self.prng.normal(loc=0.0, scale=0.01, size=m)\n",
    "        self._b = float(0)\n",
    "        self.w_initialized = True\n",
    "    \n",
    "    def _shuffle(self, X, y):\n",
    "        perm = self.prng.permutation(len(y))\n",
    "        return X[perm], y[perm]\n",
    "    \n",
    "    def _update_weights(self, x, yi):\n",
    "        output = self.activation(self.net_input(x))\n",
    "        error = yi - output\n",
    "        self.eta = self.eta0/(self.current_iter + self.c) #adaptive learning rate\n",
    "        self._w += self.eta * 2.0 * x * error\n",
    "        self._b += self.eta * 2.0 * error\n",
    "        self.current_iter += 1.0\n",
    "        \n",
    "        loss = error**2\n",
    "        return loss\n",
    "    \n",
    "    def net_input(self, X):\n",
    "        return np.dot(X, self._w) + self._b\n",
    "    \n",
    "    def activation(self, X):\n",
    "        #again we just have the identity function for now\n",
    "        return X\n",
    "    \n",
    "    def predict(self, X):\n",
    "        return np.where(self.activation(self.net_input(X))>=0.5, 1, 0)\n",
    "    \n",
    "    def evaluate(self, X, y):\n",
    "        predictions = self.predict(X)\n",
    "        accuracy = np.sum(predictions == y) / y.shape[0]\n",
    "        return accuracy"
   ]
  },
  {
   "cell_type": "markdown",
   "id": "5e3e2242",
   "metadata": {},
   "source": [
    "Now we train the model on the training data, and test it on the test data. Hopefully, this model will converge signficantly faster than full-batch gradient descent."
   ]
  },
  {
   "cell_type": "code",
   "execution_count": 28,
   "id": "b57f6e3f",
   "metadata": {},
   "outputs": [
    {
     "data": {
      "text/plain": [
       "0.9649122807017544"
      ]
     },
     "execution_count": 28,
     "metadata": {},
     "output_type": "execute_result"
    }
   ],
   "source": [
    "adas = AdalineSGD(eta0=0.1, n_iter=50)\n",
    "adas.fit(train_features, train_classes)\n",
    "\n",
    "#and output the accuracy\n",
    "adas.evaluate(test_features, test_classes)"
   ]
  },
  {
   "cell_type": "code",
   "execution_count": 30,
   "id": "980ddca7",
   "metadata": {},
   "outputs": [
    {
     "data": {
      "image/png": "[encoded data removed]",
      "text/plain": [
       "<Figure size 640x480 with 1 Axes>"
      ]
     },
     "metadata": {},
     "output_type": "display_data"
    }
   ],
   "source": [
    "plt.plot(range(1, len(adas._losses) + 1),adas._losses, marker='o')\n",
    "plt.xlabel('Epochs')\n",
    "plt.ylabel('mean squared error')\n",
    "plt.title('Adaline - Adaptive learning rate')\n",
    "plt.show()"
   ]
  },
  {
   "cell_type": "markdown",
   "id": "51eb231a",
   "metadata": {},
   "source": [
    "Observe that we only require $50$ iterations to converge to a much better accuracy than we were able to achieve after $500$ iterations of the full-batch gradient descent!"
   ]
  }
 ],
 "metadata": {
  "kernelspec": {
   "display_name": "Python 3 (ipykernel)",
   "language": "python",
   "name": "python3"
  },
  "language_info": {
   "codemirror_mode": {
    "name": "ipython",
    "version": 3
   },
   "file_extension": ".py",
   "mimetype": "text/x-python",
   "name": "python",
   "nbconvert_exporter": "python",
   "pygments_lexer": "ipython3",
   "version": "3.11.7"
  }
 },
 "nbformat": 4,
 "nbformat_minor": 5
}
