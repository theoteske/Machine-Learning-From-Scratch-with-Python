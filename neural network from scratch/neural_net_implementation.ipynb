{
 "cells": [
  {
   "cell_type": "code",
   "execution_count": 14,
   "id": "acdaa78e",
   "metadata": {},
   "outputs": [],
   "source": [
    "import numpy as np\n",
    "import layers\n",
    "import activations\n",
    "import nn\n",
    "import losses\n",
    "import optimizers"
   ]
  },
  {
   "cell_type": "code",
   "execution_count": 17,
   "id": "748e870c",
   "metadata": {},
   "outputs": [
    {
     "name": "stdout",
     "output_type": "stream",
     "text": [
      "Epoch 0, Loss: 0.30356490386062646\n",
      "Epoch 1, Loss: 0.23504362040619364\n",
      "Epoch 2, Loss: 0.19612274951488484\n",
      "Epoch 3, Loss: 0.16797468227813567\n",
      "Epoch 4, Loss: 0.14644867613389823\n",
      "Epoch 5, Loss: 0.1294722537376399\n",
      "Epoch 6, Loss: 0.11574242537069016\n",
      "Epoch 7, Loss: 0.10439458473397185\n",
      "Epoch 8, Loss: 0.09484843609464838\n",
      "Epoch 9, Loss: 0.08669522138857041\n",
      "Epoch 10, Loss: 0.07963410219569332\n",
      "Epoch 11, Loss: 0.07344087206348919\n",
      "Epoch 12, Loss: 0.06794782666485476\n",
      "Epoch 13, Loss: 0.06303049363608199\n",
      "Epoch 14, Loss: 0.05859586367442724\n",
      "Epoch 15, Loss: 0.05457437659587271\n",
      "Epoch 16, Loss: 0.05091345085475838\n",
      "Epoch 17, Loss: 0.04757066223422287\n",
      "Epoch 18, Loss: 0.044509112978226226\n",
      "Epoch 19, Loss: 0.04169497060456296\n",
      "Epoch 20, Loss: 0.03909764585711523\n",
      "Epoch 21, Loss: 0.03669156082635241\n",
      "Epoch 22, Loss: 0.03445495469230269\n",
      "Epoch 23, Loss: 0.0323694031847588\n",
      "Epoch 24, Loss: 0.03041958855077139\n",
      "Accuracy: 0.9774\n"
     ]
    }
   ],
   "source": [
    "from tensorflow.keras.datasets import mnist\n",
    "import numpy as np\n",
    "\n",
    "#load and preprocess the MNIST dataset\n",
    "(X_train, y_train), (X_test, y_test) = mnist.load_data()\n",
    "X_train = X_train.reshape(-1, 784) / 255.0\n",
    "X_test = X_test.reshape(-1, 784) / 255.0\n",
    "\n",
    "#convert labels to one-hot encoded vectors\n",
    "def one_hot_encode(labels, num_classes):\n",
    "    num_samples = labels.shape[0]\n",
    "    encoded_labels = np.zeros((num_samples, num_classes))\n",
    "    for i in range(num_samples):\n",
    "        encoded_labels[i, labels[i]] = 1\n",
    "    return encoded_labels\n",
    "\n",
    "num_classes = 10\n",
    "y_train_one_hot = one_hot_encode(y_train, num_classes)\n",
    "y_test_one_hot = one_hot_encode(y_test, num_classes)\n",
    "\n",
    "\n",
    "#create the model\n",
    "input_size = 784\n",
    "num_units = 128\n",
    "model = nn.Sequential()\n",
    "model.add(layers.InputLayer(input_shape=input_size))\n",
    "model.add(layers.Dense(input_size, num_units, activation=activations.Sigmoid, optimizer=optimizers.RMSprop))\n",
    "model.add(layers.Dense(num_units, num_classes, activation=activations.Softmax, optimizer=optimizers.RMSprop))\n",
    "\n",
    "#train the model\n",
    "epochs = 25\n",
    "learning_rate = 0.001\n",
    "batch_size = 128\n",
    "model.train(X_train.T, y_train_one_hot.T, epochs, learning_rate, batch_size, loss=losses.CrossEntropy)\n",
    "\n",
    "#make predictions\n",
    "predictions = model.predict(X_test.T)\n",
    "\n",
    "#convert predictions to class labels\n",
    "predicted_labels = np.argmax(predictions, axis=0)\n",
    "\n",
    "#calculate accuracy\n",
    "accuracy = np.mean(predicted_labels == y_test)\n",
    "print(\"Accuracy:\", accuracy)"
   ]
  },
  {
   "cell_type": "markdown",
   "id": "5c74a3b1",
   "metadata": {},
   "source": [
    "As you can see above, using the Sigmoid activation function, the Cross Entropy loss, and the RMSprop optimizer, we achieve an accuracy of 0.9774"
   ]
  },
  {
   "cell_type": "code",
   "execution_count": null,
   "id": "63207f4f-2d75-40da-90e1-74141d26043e",
   "metadata": {},
   "outputs": [],
   "source": []
  }
 ],
 "metadata": {
  "kernelspec": {
   "display_name": "Python 3 (ipykernel)",
   "language": "python",
   "name": "python3"
  },
  "language_info": {
   "codemirror_mode": {
    "name": "ipython",
    "version": 3
   },
   "file_extension": ".py",
   "mimetype": "text/x-python",
   "name": "python",
   "nbconvert_exporter": "python",
   "pygments_lexer": "ipython3",
   "version": "3.11.7"
  }
 },
 "nbformat": 4,
 "nbformat_minor": 5
}
